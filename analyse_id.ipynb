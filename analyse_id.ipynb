{
 "cells": [
  {
   "cell_type": "code",
   "execution_count": 15,
   "metadata": {},
   "outputs": [],
   "source": [
    "# read img, id list from txt file\n",
    "file_path='dataset/FaceData/CelebAMask-HQ/identity_CelebA.txt'\n",
    "# read img, id list from txt file\n",
    "with open(file_path, 'r') as f:\n",
    "    lines = f.readlines()\n",
    "    # lines ['000001.jpg 2880\\n',\n",
    "            # '000002.jpg 2937\\n',\n",
    "            # '000003.jpg 8692\\n',\n",
    "            # '000004.jpg 5805\\n']\n",
    "    img_list = [line.split()[0] for line in lines]\n",
    "    id_list = [int(line.split()[1]) for line in lines]\n",
    "    \n",
    "# read mapping list : id orig indx, orig file name\n",
    "file_path='dataset/FaceData/CelebAMask-HQ/CelebA-HQ-to-CelebA-mapping.txt'\n",
    "# read id, index,file_name list from txt file\n",
    "with open(file_path, 'r') as f:\n",
    "    lines = f.readlines()\n",
    "    #     lines=['idx        orig_idx   orig_file\\n',\n",
    "#  '0          119613     119614.jpg\\n',\n",
    "#  '1          99094      099095.jpg\\n',\n",
    "#  '2          200121     200122.jpg\\n',\n",
    "#  '3          81059      081060.jpg\\n',\n",
    "#  '4          202040     202041.jpg\\n',]\n",
    "    lines = lines[1:]\n",
    "    orig_idx_list = [int(line.split()[1]) for line in lines]\n",
    "    orig_file_list = [line.split()[2] for line in lines]\n",
    "    \n",
    "# for all the idx in orig_idx_list, find the corresponding id in id_list using the orig_file list and img_list\n",
    "id_list_new = []\n",
    "for idx in range(len(orig_idx_list)):\n",
    "    orig_file = orig_file_list[idx]\n",
    "    img_idx = img_list.index(orig_file)\n",
    "    id_list_new.append(id_list[img_idx])\n"
   ]
  },
  {
   "cell_type": "code",
   "execution_count": 17,
   "metadata": {},
   "outputs": [],
   "source": [
    "# id_list_new\n",
    "#save id_list_new\n",
    "with open('dataset/FaceData/CelebAMask-HQ/identity_CelebA_new.txt', 'w') as f:\n",
    "    for idx in range(len(id_list_new)):\n",
    "        f.write(img_list[idx]+' '+str(id_list_new[idx])+'\\n')"
   ]
  },
  {
   "cell_type": "code",
   "execution_count": 18,
   "metadata": {},
   "outputs": [],
   "source": [
    "# do a reverse mapping if same id is present in multiple images append the indices\n",
    "id_to_img_idx = {}\n",
    "for idx in range(len(id_list_new)):\n",
    "    id = id_list_new[idx]\n",
    "    if id in id_to_img_idx:\n",
    "        id_to_img_idx[id].append(idx)\n",
    "    else:\n",
    "        id_to_img_idx[id] = [idx]"
   ]
  },
  {
   "cell_type": "code",
   "execution_count": 20,
   "metadata": {},
   "outputs": [],
   "source": [
    "# save id_to_img_idx\n",
    "with open('dataset/FaceData/CelebAMask-HQ/id_to_img_idx.txt', 'w') as f:\n",
    "    for id in id_to_img_idx:\n",
    "        f.write(str(id)+' '+str(id_to_img_idx[id])+'\\n')"
   ]
  },
  {
   "cell_type": "code",
   "execution_count": null,
   "metadata": {},
   "outputs": [],
   "source": []
  }
 ],
 "metadata": {
  "kernelspec": {
   "display_name": "dift",
   "language": "python",
   "name": "python3"
  },
  "language_info": {
   "codemirror_mode": {
    "name": "ipython",
    "version": 3
   },
   "file_extension": ".py",
   "mimetype": "text/x-python",
   "name": "python",
   "nbconvert_exporter": "python",
   "pygments_lexer": "ipython3",
   "version": "3.10.13"
  }
 },
 "nbformat": 4,
 "nbformat_minor": 2
}
